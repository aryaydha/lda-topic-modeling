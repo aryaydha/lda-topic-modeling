{
  "nbformat": 4,
  "nbformat_minor": 0,
  "metadata": {
    "colab": {
      "provenance": []
    },
    "kernelspec": {
      "name": "python3",
      "display_name": "Python 3"
    },
    "language_info": {
      "name": "python"
    }
  },
  "cells": [
    {
      "cell_type": "code",
      "source": [
        "!pip install pyldavis"
      ],
      "metadata": {
        "colab": {
          "base_uri": "https://localhost:8080/"
        },
        "id": "O062xpukDV7U",
        "outputId": "598ed5a9-96cb-4fb9-8e1b-1da8102be4a9"
      },
      "execution_count": null,
      "outputs": [
        {
          "output_type": "stream",
          "name": "stdout",
          "text": [
            "Collecting pyldavis\n",
            "  Downloading pyLDAvis-3.4.1-py3-none-any.whl (2.6 MB)\n",
            "\u001b[2K     \u001b[90m━━━━━━━━━━━━━━━━━━━━━━━━━━━━━━━━━━━━━━━━\u001b[0m \u001b[32m2.6/2.6 MB\u001b[0m \u001b[31m9.7 MB/s\u001b[0m eta \u001b[36m0:00:00\u001b[0m\n",
            "\u001b[?25hRequirement already satisfied: numpy>=1.24.2 in /usr/local/lib/python3.10/dist-packages (from pyldavis) (1.25.2)\n",
            "Requirement already satisfied: scipy in /usr/local/lib/python3.10/dist-packages (from pyldavis) (1.11.4)\n",
            "Requirement already satisfied: pandas>=2.0.0 in /usr/local/lib/python3.10/dist-packages (from pyldavis) (2.0.3)\n",
            "Requirement already satisfied: joblib>=1.2.0 in /usr/local/lib/python3.10/dist-packages (from pyldavis) (1.4.2)\n",
            "Requirement already satisfied: jinja2 in /usr/local/lib/python3.10/dist-packages (from pyldavis) (3.1.4)\n",
            "Requirement already satisfied: numexpr in /usr/local/lib/python3.10/dist-packages (from pyldavis) (2.10.1)\n",
            "Collecting funcy (from pyldavis)\n",
            "  Downloading funcy-2.0-py2.py3-none-any.whl (30 kB)\n",
            "Requirement already satisfied: scikit-learn>=1.0.0 in /usr/local/lib/python3.10/dist-packages (from pyldavis) (1.2.2)\n",
            "Requirement already satisfied: gensim in /usr/local/lib/python3.10/dist-packages (from pyldavis) (4.3.2)\n",
            "Requirement already satisfied: setuptools in /usr/local/lib/python3.10/dist-packages (from pyldavis) (67.7.2)\n",
            "Requirement already satisfied: python-dateutil>=2.8.2 in /usr/local/lib/python3.10/dist-packages (from pandas>=2.0.0->pyldavis) (2.8.2)\n",
            "Requirement already satisfied: pytz>=2020.1 in /usr/local/lib/python3.10/dist-packages (from pandas>=2.0.0->pyldavis) (2023.4)\n",
            "Requirement already satisfied: tzdata>=2022.1 in /usr/local/lib/python3.10/dist-packages (from pandas>=2.0.0->pyldavis) (2024.1)\n",
            "Requirement already satisfied: threadpoolctl>=2.0.0 in /usr/local/lib/python3.10/dist-packages (from scikit-learn>=1.0.0->pyldavis) (3.5.0)\n",
            "Requirement already satisfied: smart-open>=1.8.1 in /usr/local/lib/python3.10/dist-packages (from gensim->pyldavis) (7.0.4)\n",
            "Requirement already satisfied: MarkupSafe>=2.0 in /usr/local/lib/python3.10/dist-packages (from jinja2->pyldavis) (2.1.5)\n",
            "Requirement already satisfied: six>=1.5 in /usr/local/lib/python3.10/dist-packages (from python-dateutil>=2.8.2->pandas>=2.0.0->pyldavis) (1.16.0)\n",
            "Requirement already satisfied: wrapt in /usr/local/lib/python3.10/dist-packages (from smart-open>=1.8.1->gensim->pyldavis) (1.14.1)\n",
            "Installing collected packages: funcy, pyldavis\n",
            "Successfully installed funcy-2.0 pyldavis-3.4.1\n"
          ]
        }
      ]
    },
    {
      "cell_type": "code",
      "execution_count": null,
      "metadata": {
        "id": "o9hFL8JoCwk5"
      },
      "outputs": [],
      "source": [
        "import re, string, unicodedata\n",
        "import nltk\n",
        "from nltk import word_tokenize, sent_tokenize\n",
        "from nltk.corpus import stopwords\n",
        "\n",
        "import pandas as pd\n",
        "\n",
        "import numpy as np\n",
        "import matplotlib.pyplot as plt\n",
        "import pyLDAvis"
      ]
    },
    {
      "cell_type": "code",
      "source": [
        "nltk.download('stopwords')\n",
        "nltk.download('punkt')"
      ],
      "metadata": {
        "id": "IPBVhtWeDRsT",
        "outputId": "d0509ee4-6b63-4e54-a630-fbdaccc1720e",
        "colab": {
          "base_uri": "https://localhost:8080/"
        }
      },
      "execution_count": null,
      "outputs": [
        {
          "output_type": "stream",
          "name": "stderr",
          "text": [
            "/usr/local/lib/python3.10/dist-packages/ipykernel/ipkernel.py:283: DeprecationWarning: `should_run_async` will not call `transform_cell` automatically in the future. Please pass the result to `transformed_cell` argument and any exception that happen during thetransform in `preprocessing_exc_tuple` in IPython 7.17 and above.\n",
            "  and should_run_async(code)\n",
            "[nltk_data] Downloading package stopwords to /root/nltk_data...\n",
            "[nltk_data]   Package stopwords is already up-to-date!\n",
            "[nltk_data] Downloading package punkt to /root/nltk_data...\n",
            "[nltk_data]   Unzipping tokenizers/punkt.zip.\n"
          ]
        },
        {
          "output_type": "execute_result",
          "data": {
            "text/plain": [
              "True"
            ]
          },
          "metadata": {},
          "execution_count": 8
        }
      ]
    },
    {
      "cell_type": "code",
      "source": [
        "# Importing File\n",
        "\n",
        "df = pd.read_csv('/content/drive/MyDrive/Topic Modeling LDA Pilkada Jateng 2024/Data/dataset_instagram-hashtag-scraper_2024-07-16_13-59-33-189.csv')\n",
        "\n",
        "df.head()"
      ],
      "metadata": {
        "id": "ratxz_zJDJR8",
        "colab": {
          "base_uri": "https://localhost:8080/",
          "height": 689
        },
        "outputId": "e34bf909-1b47-401d-c870-a804f823bb87"
      },
      "execution_count": null,
      "outputs": [
        {
          "output_type": "stream",
          "name": "stderr",
          "text": [
            "/usr/local/lib/python3.10/dist-packages/ipykernel/ipkernel.py:283: DeprecationWarning: `should_run_async` will not call `transform_cell` automatically in the future. Please pass the result to `transformed_cell` argument and any exception that happen during thetransform in `preprocessing_exc_tuple` in IPython 7.17 and above.\n",
            "  and should_run_async(code)\n"
          ]
        },
        {
          "output_type": "execute_result",
          "data": {
            "text/plain": [
              "                                             caption  \\\n",
              "0  Tahapan Pencalonan Pilkada 2024\\n@ppk_purworej...   \n",
              "1  Terimakasih rekan-rekan pantarlih Desa Barukan...   \n",
              "2  Repost @kpu.purworejo \\nHai #temanpemilih  ayo...   \n",
              "3  Panitia Ad Hoc Pilkada 2024\\n@ppk_purworejo\\n#...   \n",
              "4  #TemanPemilih Rabu, 10 Juli 2024\\nMonitoring P...   \n",
              "\n",
              "                                                 alt  \\\n",
              "0  Photo by PPS Cangkreplor in Kabupaten Purworej...   \n",
              "1  Photo by PPK Kecamatan Manisrenggo 2024 on Jul...   \n",
              "2  Photo shared by PPS Binangun on July 09, 2024 ...   \n",
              "3  Photo by PPS Cangkreplor on July 09, 2024. May...   \n",
              "4  Photo by PPS Desa Sekarsuli on July 10, 2024. ...   \n",
              "\n",
              "                  timestamp                                       url  \\\n",
              "0  2024-07-10T02:33:49.000Z  https://www.instagram.com/p/C9Ob6ofS3cx/   \n",
              "1  2024-07-10T11:37:59.000Z  https://www.instagram.com/p/C9PaMOWy_Mk/   \n",
              "2  2024-07-10T00:13:28.000Z  https://www.instagram.com/p/C9OL2tDyoQq/   \n",
              "3  2024-07-10T00:29:17.000Z  https://www.instagram.com/p/C9ONqkjyV1o/   \n",
              "4  2024-07-10T11:03:07.000Z  https://www.instagram.com/p/C9PWM7pvX_T/   \n",
              "\n",
              "   commentsCount                                           inputUrl  \\\n",
              "0              0  https://www.instagram.com/explore/tags/pilkada...   \n",
              "1              0  https://www.instagram.com/explore/tags/pilkada...   \n",
              "2              0  https://www.instagram.com/explore/tags/pilkada...   \n",
              "3              1  https://www.instagram.com/explore/tags/pilkada...   \n",
              "4              0  https://www.instagram.com/explore/tags/pilkada...   \n",
              "\n",
              "           fullName  likesCount      ownerUsername           hashtags/0  ...  \\\n",
              "0  owner didnt open           8    pps_cangkreplor  pilbuppurworejo2024  ...   \n",
              "1  owner didnt open          23    ppk.manisrenggo   kpuklatenmencoklit  ...   \n",
              "2  owner didnt open          11  pps.desa.binangun         temanpemilih  ...   \n",
              "3  owner didnt open          11    pps_cangkreplor  pilbuppurworejo2024  ...   \n",
              "4  owner didnt open           9   pps_ds.sekarsuli         TemanPemilih  ...   \n",
              "\n",
              "  hashtags/20 hashtags/21 hashtags/22 hashtags/23 hashtags/24 hashtags/25  \\\n",
              "0         NaN         NaN         NaN         NaN         NaN         NaN   \n",
              "1         NaN         NaN         NaN         NaN         NaN         NaN   \n",
              "2         NaN         NaN         NaN         NaN         NaN         NaN   \n",
              "3         NaN         NaN         NaN         NaN         NaN         NaN   \n",
              "4         NaN         NaN         NaN         NaN         NaN         NaN   \n",
              "\n",
              "  hashtags/26 hashtags/27 hashtags/28 hashtags/29  \n",
              "0         NaN         NaN         NaN         NaN  \n",
              "1         NaN         NaN         NaN         NaN  \n",
              "2         NaN         NaN         NaN         NaN  \n",
              "3         NaN         NaN         NaN         NaN  \n",
              "4         NaN         NaN         NaN         NaN  \n",
              "\n",
              "[5 rows x 39 columns]"
            ],
            "text/html": [
              "\n",
              "  <div id=\"df-9c52f222-9c6d-4e85-8e53-c53ba3d7f1ef\" class=\"colab-df-container\">\n",
              "    <div>\n",
              "<style scoped>\n",
              "    .dataframe tbody tr th:only-of-type {\n",
              "        vertical-align: middle;\n",
              "    }\n",
              "\n",
              "    .dataframe tbody tr th {\n",
              "        vertical-align: top;\n",
              "    }\n",
              "\n",
              "    .dataframe thead th {\n",
              "        text-align: right;\n",
              "    }\n",
              "</style>\n",
              "<table border=\"1\" class=\"dataframe\">\n",
              "  <thead>\n",
              "    <tr style=\"text-align: right;\">\n",
              "      <th></th>\n",
              "      <th>caption</th>\n",
              "      <th>alt</th>\n",
              "      <th>timestamp</th>\n",
              "      <th>url</th>\n",
              "      <th>commentsCount</th>\n",
              "      <th>inputUrl</th>\n",
              "      <th>fullName</th>\n",
              "      <th>likesCount</th>\n",
              "      <th>ownerUsername</th>\n",
              "      <th>hashtags/0</th>\n",
              "      <th>...</th>\n",
              "      <th>hashtags/20</th>\n",
              "      <th>hashtags/21</th>\n",
              "      <th>hashtags/22</th>\n",
              "      <th>hashtags/23</th>\n",
              "      <th>hashtags/24</th>\n",
              "      <th>hashtags/25</th>\n",
              "      <th>hashtags/26</th>\n",
              "      <th>hashtags/27</th>\n",
              "      <th>hashtags/28</th>\n",
              "      <th>hashtags/29</th>\n",
              "    </tr>\n",
              "  </thead>\n",
              "  <tbody>\n",
              "    <tr>\n",
              "      <th>0</th>\n",
              "      <td>Tahapan Pencalonan Pilkada 2024\\n@ppk_purworej...</td>\n",
              "      <td>Photo by PPS Cangkreplor in Kabupaten Purworej...</td>\n",
              "      <td>2024-07-10T02:33:49.000Z</td>\n",
              "      <td>https://www.instagram.com/p/C9Ob6ofS3cx/</td>\n",
              "      <td>0</td>\n",
              "      <td>https://www.instagram.com/explore/tags/pilkada...</td>\n",
              "      <td>owner didnt open</td>\n",
              "      <td>8</td>\n",
              "      <td>pps_cangkreplor</td>\n",
              "      <td>pilbuppurworejo2024</td>\n",
              "      <td>...</td>\n",
              "      <td>NaN</td>\n",
              "      <td>NaN</td>\n",
              "      <td>NaN</td>\n",
              "      <td>NaN</td>\n",
              "      <td>NaN</td>\n",
              "      <td>NaN</td>\n",
              "      <td>NaN</td>\n",
              "      <td>NaN</td>\n",
              "      <td>NaN</td>\n",
              "      <td>NaN</td>\n",
              "    </tr>\n",
              "    <tr>\n",
              "      <th>1</th>\n",
              "      <td>Terimakasih rekan-rekan pantarlih Desa Barukan...</td>\n",
              "      <td>Photo by PPK Kecamatan Manisrenggo 2024 on Jul...</td>\n",
              "      <td>2024-07-10T11:37:59.000Z</td>\n",
              "      <td>https://www.instagram.com/p/C9PaMOWy_Mk/</td>\n",
              "      <td>0</td>\n",
              "      <td>https://www.instagram.com/explore/tags/pilkada...</td>\n",
              "      <td>owner didnt open</td>\n",
              "      <td>23</td>\n",
              "      <td>ppk.manisrenggo</td>\n",
              "      <td>kpuklatenmencoklit</td>\n",
              "      <td>...</td>\n",
              "      <td>NaN</td>\n",
              "      <td>NaN</td>\n",
              "      <td>NaN</td>\n",
              "      <td>NaN</td>\n",
              "      <td>NaN</td>\n",
              "      <td>NaN</td>\n",
              "      <td>NaN</td>\n",
              "      <td>NaN</td>\n",
              "      <td>NaN</td>\n",
              "      <td>NaN</td>\n",
              "    </tr>\n",
              "    <tr>\n",
              "      <th>2</th>\n",
              "      <td>Repost @kpu.purworejo \\nHai #temanpemilih  ayo...</td>\n",
              "      <td>Photo shared by PPS Binangun on July 09, 2024 ...</td>\n",
              "      <td>2024-07-10T00:13:28.000Z</td>\n",
              "      <td>https://www.instagram.com/p/C9OL2tDyoQq/</td>\n",
              "      <td>0</td>\n",
              "      <td>https://www.instagram.com/explore/tags/pilkada...</td>\n",
              "      <td>owner didnt open</td>\n",
              "      <td>11</td>\n",
              "      <td>pps.desa.binangun</td>\n",
              "      <td>temanpemilih</td>\n",
              "      <td>...</td>\n",
              "      <td>NaN</td>\n",
              "      <td>NaN</td>\n",
              "      <td>NaN</td>\n",
              "      <td>NaN</td>\n",
              "      <td>NaN</td>\n",
              "      <td>NaN</td>\n",
              "      <td>NaN</td>\n",
              "      <td>NaN</td>\n",
              "      <td>NaN</td>\n",
              "      <td>NaN</td>\n",
              "    </tr>\n",
              "    <tr>\n",
              "      <th>3</th>\n",
              "      <td>Panitia Ad Hoc Pilkada 2024\\n@ppk_purworejo\\n#...</td>\n",
              "      <td>Photo by PPS Cangkreplor on July 09, 2024. May...</td>\n",
              "      <td>2024-07-10T00:29:17.000Z</td>\n",
              "      <td>https://www.instagram.com/p/C9ONqkjyV1o/</td>\n",
              "      <td>1</td>\n",
              "      <td>https://www.instagram.com/explore/tags/pilkada...</td>\n",
              "      <td>owner didnt open</td>\n",
              "      <td>11</td>\n",
              "      <td>pps_cangkreplor</td>\n",
              "      <td>pilbuppurworejo2024</td>\n",
              "      <td>...</td>\n",
              "      <td>NaN</td>\n",
              "      <td>NaN</td>\n",
              "      <td>NaN</td>\n",
              "      <td>NaN</td>\n",
              "      <td>NaN</td>\n",
              "      <td>NaN</td>\n",
              "      <td>NaN</td>\n",
              "      <td>NaN</td>\n",
              "      <td>NaN</td>\n",
              "      <td>NaN</td>\n",
              "    </tr>\n",
              "    <tr>\n",
              "      <th>4</th>\n",
              "      <td>#TemanPemilih Rabu, 10 Juli 2024\\nMonitoring P...</td>\n",
              "      <td>Photo by PPS Desa Sekarsuli on July 10, 2024. ...</td>\n",
              "      <td>2024-07-10T11:03:07.000Z</td>\n",
              "      <td>https://www.instagram.com/p/C9PWM7pvX_T/</td>\n",
              "      <td>0</td>\n",
              "      <td>https://www.instagram.com/explore/tags/pilkada...</td>\n",
              "      <td>owner didnt open</td>\n",
              "      <td>9</td>\n",
              "      <td>pps_ds.sekarsuli</td>\n",
              "      <td>TemanPemilih</td>\n",
              "      <td>...</td>\n",
              "      <td>NaN</td>\n",
              "      <td>NaN</td>\n",
              "      <td>NaN</td>\n",
              "      <td>NaN</td>\n",
              "      <td>NaN</td>\n",
              "      <td>NaN</td>\n",
              "      <td>NaN</td>\n",
              "      <td>NaN</td>\n",
              "      <td>NaN</td>\n",
              "      <td>NaN</td>\n",
              "    </tr>\n",
              "  </tbody>\n",
              "</table>\n",
              "<p>5 rows × 39 columns</p>\n",
              "</div>\n",
              "    <div class=\"colab-df-buttons\">\n",
              "\n",
              "  <div class=\"colab-df-container\">\n",
              "    <button class=\"colab-df-convert\" onclick=\"convertToInteractive('df-9c52f222-9c6d-4e85-8e53-c53ba3d7f1ef')\"\n",
              "            title=\"Convert this dataframe to an interactive table.\"\n",
              "            style=\"display:none;\">\n",
              "\n",
              "  <svg xmlns=\"http://www.w3.org/2000/svg\" height=\"24px\" viewBox=\"0 -960 960 960\">\n",
              "    <path d=\"M120-120v-720h720v720H120Zm60-500h600v-160H180v160Zm220 220h160v-160H400v160Zm0 220h160v-160H400v160ZM180-400h160v-160H180v160Zm440 0h160v-160H620v160ZM180-180h160v-160H180v160Zm440 0h160v-160H620v160Z\"/>\n",
              "  </svg>\n",
              "    </button>\n",
              "\n",
              "  <style>\n",
              "    .colab-df-container {\n",
              "      display:flex;\n",
              "      gap: 12px;\n",
              "    }\n",
              "\n",
              "    .colab-df-convert {\n",
              "      background-color: #E8F0FE;\n",
              "      border: none;\n",
              "      border-radius: 50%;\n",
              "      cursor: pointer;\n",
              "      display: none;\n",
              "      fill: #1967D2;\n",
              "      height: 32px;\n",
              "      padding: 0 0 0 0;\n",
              "      width: 32px;\n",
              "    }\n",
              "\n",
              "    .colab-df-convert:hover {\n",
              "      background-color: #E2EBFA;\n",
              "      box-shadow: 0px 1px 2px rgba(60, 64, 67, 0.3), 0px 1px 3px 1px rgba(60, 64, 67, 0.15);\n",
              "      fill: #174EA6;\n",
              "    }\n",
              "\n",
              "    .colab-df-buttons div {\n",
              "      margin-bottom: 4px;\n",
              "    }\n",
              "\n",
              "    [theme=dark] .colab-df-convert {\n",
              "      background-color: #3B4455;\n",
              "      fill: #D2E3FC;\n",
              "    }\n",
              "\n",
              "    [theme=dark] .colab-df-convert:hover {\n",
              "      background-color: #434B5C;\n",
              "      box-shadow: 0px 1px 3px 1px rgba(0, 0, 0, 0.15);\n",
              "      filter: drop-shadow(0px 1px 2px rgba(0, 0, 0, 0.3));\n",
              "      fill: #FFFFFF;\n",
              "    }\n",
              "  </style>\n",
              "\n",
              "    <script>\n",
              "      const buttonEl =\n",
              "        document.querySelector('#df-9c52f222-9c6d-4e85-8e53-c53ba3d7f1ef button.colab-df-convert');\n",
              "      buttonEl.style.display =\n",
              "        google.colab.kernel.accessAllowed ? 'block' : 'none';\n",
              "\n",
              "      async function convertToInteractive(key) {\n",
              "        const element = document.querySelector('#df-9c52f222-9c6d-4e85-8e53-c53ba3d7f1ef');\n",
              "        const dataTable =\n",
              "          await google.colab.kernel.invokeFunction('convertToInteractive',\n",
              "                                                    [key], {});\n",
              "        if (!dataTable) return;\n",
              "\n",
              "        const docLinkHtml = 'Like what you see? Visit the ' +\n",
              "          '<a target=\"_blank\" href=https://colab.research.google.com/notebooks/data_table.ipynb>data table notebook</a>'\n",
              "          + ' to learn more about interactive tables.';\n",
              "        element.innerHTML = '';\n",
              "        dataTable['output_type'] = 'display_data';\n",
              "        await google.colab.output.renderOutput(dataTable, element);\n",
              "        const docLink = document.createElement('div');\n",
              "        docLink.innerHTML = docLinkHtml;\n",
              "        element.appendChild(docLink);\n",
              "      }\n",
              "    </script>\n",
              "  </div>\n",
              "\n",
              "\n",
              "<div id=\"df-1cd81056-4a6f-4c16-9457-5649d4deb0cb\">\n",
              "  <button class=\"colab-df-quickchart\" onclick=\"quickchart('df-1cd81056-4a6f-4c16-9457-5649d4deb0cb')\"\n",
              "            title=\"Suggest charts\"\n",
              "            style=\"display:none;\">\n",
              "\n",
              "<svg xmlns=\"http://www.w3.org/2000/svg\" height=\"24px\"viewBox=\"0 0 24 24\"\n",
              "     width=\"24px\">\n",
              "    <g>\n",
              "        <path d=\"M19 3H5c-1.1 0-2 .9-2 2v14c0 1.1.9 2 2 2h14c1.1 0 2-.9 2-2V5c0-1.1-.9-2-2-2zM9 17H7v-7h2v7zm4 0h-2V7h2v10zm4 0h-2v-4h2v4z\"/>\n",
              "    </g>\n",
              "</svg>\n",
              "  </button>\n",
              "\n",
              "<style>\n",
              "  .colab-df-quickchart {\n",
              "      --bg-color: #E8F0FE;\n",
              "      --fill-color: #1967D2;\n",
              "      --hover-bg-color: #E2EBFA;\n",
              "      --hover-fill-color: #174EA6;\n",
              "      --disabled-fill-color: #AAA;\n",
              "      --disabled-bg-color: #DDD;\n",
              "  }\n",
              "\n",
              "  [theme=dark] .colab-df-quickchart {\n",
              "      --bg-color: #3B4455;\n",
              "      --fill-color: #D2E3FC;\n",
              "      --hover-bg-color: #434B5C;\n",
              "      --hover-fill-color: #FFFFFF;\n",
              "      --disabled-bg-color: #3B4455;\n",
              "      --disabled-fill-color: #666;\n",
              "  }\n",
              "\n",
              "  .colab-df-quickchart {\n",
              "    background-color: var(--bg-color);\n",
              "    border: none;\n",
              "    border-radius: 50%;\n",
              "    cursor: pointer;\n",
              "    display: none;\n",
              "    fill: var(--fill-color);\n",
              "    height: 32px;\n",
              "    padding: 0;\n",
              "    width: 32px;\n",
              "  }\n",
              "\n",
              "  .colab-df-quickchart:hover {\n",
              "    background-color: var(--hover-bg-color);\n",
              "    box-shadow: 0 1px 2px rgba(60, 64, 67, 0.3), 0 1px 3px 1px rgba(60, 64, 67, 0.15);\n",
              "    fill: var(--button-hover-fill-color);\n",
              "  }\n",
              "\n",
              "  .colab-df-quickchart-complete:disabled,\n",
              "  .colab-df-quickchart-complete:disabled:hover {\n",
              "    background-color: var(--disabled-bg-color);\n",
              "    fill: var(--disabled-fill-color);\n",
              "    box-shadow: none;\n",
              "  }\n",
              "\n",
              "  .colab-df-spinner {\n",
              "    border: 2px solid var(--fill-color);\n",
              "    border-color: transparent;\n",
              "    border-bottom-color: var(--fill-color);\n",
              "    animation:\n",
              "      spin 1s steps(1) infinite;\n",
              "  }\n",
              "\n",
              "  @keyframes spin {\n",
              "    0% {\n",
              "      border-color: transparent;\n",
              "      border-bottom-color: var(--fill-color);\n",
              "      border-left-color: var(--fill-color);\n",
              "    }\n",
              "    20% {\n",
              "      border-color: transparent;\n",
              "      border-left-color: var(--fill-color);\n",
              "      border-top-color: var(--fill-color);\n",
              "    }\n",
              "    30% {\n",
              "      border-color: transparent;\n",
              "      border-left-color: var(--fill-color);\n",
              "      border-top-color: var(--fill-color);\n",
              "      border-right-color: var(--fill-color);\n",
              "    }\n",
              "    40% {\n",
              "      border-color: transparent;\n",
              "      border-right-color: var(--fill-color);\n",
              "      border-top-color: var(--fill-color);\n",
              "    }\n",
              "    60% {\n",
              "      border-color: transparent;\n",
              "      border-right-color: var(--fill-color);\n",
              "    }\n",
              "    80% {\n",
              "      border-color: transparent;\n",
              "      border-right-color: var(--fill-color);\n",
              "      border-bottom-color: var(--fill-color);\n",
              "    }\n",
              "    90% {\n",
              "      border-color: transparent;\n",
              "      border-bottom-color: var(--fill-color);\n",
              "    }\n",
              "  }\n",
              "</style>\n",
              "\n",
              "  <script>\n",
              "    async function quickchart(key) {\n",
              "      const quickchartButtonEl =\n",
              "        document.querySelector('#' + key + ' button');\n",
              "      quickchartButtonEl.disabled = true;  // To prevent multiple clicks.\n",
              "      quickchartButtonEl.classList.add('colab-df-spinner');\n",
              "      try {\n",
              "        const charts = await google.colab.kernel.invokeFunction(\n",
              "            'suggestCharts', [key], {});\n",
              "      } catch (error) {\n",
              "        console.error('Error during call to suggestCharts:', error);\n",
              "      }\n",
              "      quickchartButtonEl.classList.remove('colab-df-spinner');\n",
              "      quickchartButtonEl.classList.add('colab-df-quickchart-complete');\n",
              "    }\n",
              "    (() => {\n",
              "      let quickchartButtonEl =\n",
              "        document.querySelector('#df-1cd81056-4a6f-4c16-9457-5649d4deb0cb button');\n",
              "      quickchartButtonEl.style.display =\n",
              "        google.colab.kernel.accessAllowed ? 'block' : 'none';\n",
              "    })();\n",
              "  </script>\n",
              "</div>\n",
              "\n",
              "    </div>\n",
              "  </div>\n"
            ],
            "application/vnd.google.colaboratory.intrinsic+json": {
              "type": "dataframe",
              "variable_name": "df"
            }
          },
          "metadata": {},
          "execution_count": 9
        }
      ]
    },
    {
      "cell_type": "code",
      "source": [
        "# Convert all entries in the 'captionntent' column to strings\n",
        "df['caption'] = df['caption'].astype(str)"
      ],
      "metadata": {
        "colab": {
          "base_uri": "https://localhost:8080/"
        },
        "id": "P5E9xcL8CgB5",
        "outputId": "91e1fd12-48f3-4a12-9536-74166ab8064b"
      },
      "execution_count": null,
      "outputs": [
        {
          "output_type": "stream",
          "name": "stderr",
          "text": [
            "/usr/local/lib/python3.10/dist-packages/ipykernel/ipkernel.py:283: DeprecationWarning: `should_run_async` will not call `transform_cell` automatically in the future. Please pass the result to `transformed_cell` argument and any exception that happen during thetransform in `preprocessing_exc_tuple` in IPython 7.17 and above.\n",
            "  and should_run_async(code)\n"
          ]
        }
      ]
    },
    {
      "cell_type": "code",
      "source": [
        "#preprocessing\n",
        "def removeStopword(str):\n",
        "    stop_words = set(stopwords.words('indonesian'))\n",
        "    word_tokens = word_tokenize(str)\n",
        "    filtered_sentence = [w for w in word_tokens if not w in stop_words]\n",
        "    return ' '.join(filtered_sentence)\n",
        "#remove sentence which contains only one word\n",
        "def removeSentence(str):\n",
        "    word = str.split()\n",
        "    wordCount = len(word)\n",
        "    if(wordCount<=1):\n",
        "        str = ''\n",
        "\n",
        "    return str\n",
        "def cleaning(str):\n",
        "    #remove non-ascii\n",
        "    str = unicodedata.normalize('NFKD', str).encode('ascii', 'ignore').decode('utf-8', 'ignore')\n",
        "    #remove URLs\n",
        "    str = re.sub(r'(?i)\\b((?:https?://|www\\d{0,3}[.]|[a-z0-9.\\-]+[.][a-z]{2,4}/)(?:[^\\s()<>]+|\\(([^\\s()<>]+|(\\([^\\s()<>]+\\)))*\\))+(?:\\(([^\\s()<>]+|(\\([^\\s()<>]+\\)))*\\)|[^\\s`!()\\[\\]{};:\\'\".,<>?«»“”‘’]))', '', str)\n",
        "    #remove punctuations\n",
        "    str = re.sub(r'[^\\w]|_',' ',str)\n",
        "    #remove digit from string\n",
        "    str = re.sub(\"\\S*\\d\\S*\", \"\", str).strip()\n",
        "    #remove digit or numbers\n",
        "    str = re.sub(r\"\\b\\d+\\b\", \" \", str)\n",
        "    #to lowercase\n",
        "    str = str.lower()\n",
        "    #Remove additional white spaces\n",
        "    str = re.sub('[\\s]+', ' ', str)\n",
        "\n",
        "    return str\n",
        "def preprocessing(str):\n",
        "    str = removeSentence(str)\n",
        "    str = cleaning(str)\n",
        "    str = removeStopword(str)\n",
        "\n",
        "    return str"
      ],
      "metadata": {
        "id": "U2dt3WrMDI7A",
        "colab": {
          "base_uri": "https://localhost:8080/"
        },
        "outputId": "65ccc8d3-372a-4806-a6b0-5b982d911c95"
      },
      "execution_count": null,
      "outputs": [
        {
          "output_type": "stream",
          "name": "stderr",
          "text": [
            "/usr/local/lib/python3.10/dist-packages/ipykernel/ipkernel.py:283: DeprecationWarning: `should_run_async` will not call `transform_cell` automatically in the future. Please pass the result to `transformed_cell` argument and any exception that happen during thetransform in `preprocessing_exc_tuple` in IPython 7.17 and above.\n",
            "  and should_run_async(code)\n",
            "<>:23: DeprecationWarning: invalid escape sequence '\\S'\n",
            "<>:29: DeprecationWarning: invalid escape sequence '\\s'\n",
            "<>:23: DeprecationWarning: invalid escape sequence '\\S'\n",
            "<>:29: DeprecationWarning: invalid escape sequence '\\s'\n",
            "<ipython-input-11-467c44ec6b70>:23: DeprecationWarning: invalid escape sequence '\\S'\n",
            "  str = re.sub(\"\\S*\\d\\S*\", \"\", str).strip()\n",
            "<ipython-input-11-467c44ec6b70>:29: DeprecationWarning: invalid escape sequence '\\s'\n",
            "  str = re.sub('[\\s]+', ' ', str)\n"
          ]
        }
      ]
    },
    {
      "cell_type": "code",
      "source": [
        "df['caption'] = df['caption'].apply(preprocessing)"
      ],
      "metadata": {
        "colab": {
          "base_uri": "https://localhost:8080/"
        },
        "id": "yhL5R18Z1kOm",
        "outputId": "0b64fade-d6d2-4d06-ad11-2179e1e942cb"
      },
      "execution_count": null,
      "outputs": [
        {
          "output_type": "stream",
          "name": "stderr",
          "text": [
            "/usr/local/lib/python3.10/dist-packages/ipykernel/ipkernel.py:283: DeprecationWarning: `should_run_async` will not call `transform_cell` automatically in the future. Please pass the result to `transformed_cell` argument and any exception that happen during thetransform in `preprocessing_exc_tuple` in IPython 7.17 and above.\n",
            "  and should_run_async(code)\n"
          ]
        }
      ]
    },
    {
      "cell_type": "code",
      "source": [
        "import gensim\n",
        "#Create Bigram & Trigram Models\n",
        "from gensim.models import Phrases\n",
        "\n",
        "text = df['caption']\n",
        "text_list =  [i.split() for i in text]\n",
        "\n",
        "# Add bigrams and trigrams to docs,minimum count 10 means only that appear 10 times or more.\n",
        "bigram = Phrases(text_list, min_count=10)\n",
        "trigram = Phrases(bigram[text_list])\n",
        "for idx in range(len(text_list)):\n",
        "    for token in bigram[text_list[idx]]:\n",
        "        if '_' in token:\n",
        "            # Token is a bigram, add to document.\n",
        "            text_list[idx].append(token)\n",
        "    for token in trigram[text_list[idx]]:\n",
        "        if '_' in token:\n",
        "            # Token is a bigram, add to document.\n",
        "            text_list[idx].append(token)"
      ],
      "metadata": {
        "colab": {
          "base_uri": "https://localhost:8080/"
        },
        "id": "1i25mGxa1pYF",
        "outputId": "ec7f958d-883d-49e3-825f-1aa45847b755"
      },
      "execution_count": null,
      "outputs": [
        {
          "output_type": "stream",
          "name": "stderr",
          "text": [
            "/usr/local/lib/python3.10/dist-packages/ipykernel/ipkernel.py:283: DeprecationWarning: `should_run_async` will not call `transform_cell` automatically in the future. Please pass the result to `transformed_cell` argument and any exception that happen during thetransform in `preprocessing_exc_tuple` in IPython 7.17 and above.\n",
            "  and should_run_async(code)\n"
          ]
        }
      ]
    },
    {
      "cell_type": "code",
      "source": [
        "from gensim import corpora, models\n",
        "# Create a dictionary representation of the documents.\n",
        "dictionary = corpora.Dictionary(text_list)\n",
        "dictionary.filter_extremes(no_below=5, no_above=0.2)"
      ],
      "metadata": {
        "colab": {
          "base_uri": "https://localhost:8080/"
        },
        "id": "n0EsbASU4cMG",
        "outputId": "adc53a88-58fc-4b7e-b93d-a07bb6dbf404"
      },
      "execution_count": null,
      "outputs": [
        {
          "output_type": "stream",
          "name": "stderr",
          "text": [
            "/usr/local/lib/python3.10/dist-packages/ipykernel/ipkernel.py:283: DeprecationWarning: `should_run_async` will not call `transform_cell` automatically in the future. Please pass the result to `transformed_cell` argument and any exception that happen during thetransform in `preprocessing_exc_tuple` in IPython 7.17 and above.\n",
            "  and should_run_async(code)\n"
          ]
        }
      ]
    },
    {
      "cell_type": "code",
      "source": [
        "#build corpus | Converting list of documents (corpus) into Document Term Matrix using dictionary prepared above.\n",
        "doc_term_matrix = [dictionary.doc2bow(doc) for doc in text_list]\n",
        "\n",
        "#The function doc2bow converts document (a list of words) into the bag-of-words format\n",
        "tfidf = models.TfidfModel(doc_term_matrix) #build TF-IDF model\n",
        "corpus_tfidf = tfidf[doc_term_matrix]"
      ],
      "metadata": {
        "colab": {
          "base_uri": "https://localhost:8080/"
        },
        "id": "X3C5RLwN4tns",
        "outputId": "762d4f43-72aa-4c0a-de31-aca3862e75ff"
      },
      "execution_count": null,
      "outputs": [
        {
          "output_type": "stream",
          "name": "stderr",
          "text": [
            "/usr/local/lib/python3.10/dist-packages/ipykernel/ipkernel.py:283: DeprecationWarning: `should_run_async` will not call `transform_cell` automatically in the future. Please pass the result to `transformed_cell` argument and any exception that happen during thetransform in `preprocessing_exc_tuple` in IPython 7.17 and above.\n",
            "  and should_run_async(code)\n"
          ]
        }
      ]
    },
    {
      "cell_type": "code",
      "source": [
        "from gensim.models.coherencemodel import CoherenceModel\n",
        "from gensim.models.ldamodel import LdaModel\n",
        "from gensim.corpora.dictionary import Dictionary\n",
        "from numpy import array\n",
        "#function to compute coherence values\n",
        "def compute_coherence_values(dictionary, corpus, texts, limit, start, step):\n",
        "    coherence_values = []\n",
        "    model_list = []\n",
        "    for num_topics in range(start, limit, step):\n",
        "        model = LdaModel(corpus=corpus, id2word=dictionary, num_topics=num_topics, iterations=100)\n",
        "        model_list.append(model)\n",
        "        coherencemodel = CoherenceModel(model=model, texts=texts, dictionary=dictionary, coherence='c_v')\n",
        "        coherence_values.append(coherencemodel.get_coherence())\n",
        "\n",
        "    return model_list, coherence_values"
      ],
      "metadata": {
        "colab": {
          "base_uri": "https://localhost:8080/"
        },
        "id": "O2-f4hPZ49pB",
        "outputId": "1a092446-9c53-4b55-cebb-b0efbef34d0f"
      },
      "execution_count": null,
      "outputs": [
        {
          "output_type": "stream",
          "name": "stderr",
          "text": [
            "/usr/local/lib/python3.10/dist-packages/ipykernel/ipkernel.py:283: DeprecationWarning: `should_run_async` will not call `transform_cell` automatically in the future. Please pass the result to `transformed_cell` argument and any exception that happen during thetransform in `preprocessing_exc_tuple` in IPython 7.17 and above.\n",
            "  and should_run_async(code)\n"
          ]
        }
      ]
    },
    {
      "cell_type": "code",
      "source": [
        "import matplotlib.pyplot as plt\n",
        "from gensim.models.ldamodel import LdaModel\n",
        "from gensim.models.coherencemodel import CoherenceModel\n",
        "\n",
        "def compute_coherence_values(dictionary, corpus, texts, start, limit, step):\n",
        "    coherence_values = []\n",
        "    model_list = []\n",
        "    for num_topics in range(start, limit, step):\n",
        "        model = LdaModel(corpus=corpus, id2word=dictionary, num_topics=num_topics, passes=10, iterations=50)\n",
        "        model_list.append(model)\n",
        "        coherence_model = CoherenceModel(model=model, texts=texts, dictionary=dictionary, coherence='c_v')\n",
        "        coherence_values.append(coherence_model.get_coherence())\n",
        "    return model_list, coherence_values\n",
        "\n",
        "# Example usage\n",
        "start = 1\n",
        "limit = 21\n",
        "step = 1\n",
        "model_list, coherence_values = compute_coherence_values(dictionary, corpus=corpus_tfidf, texts=text_list, start=start, limit=limit, step=step)\n",
        "\n",
        "# Plotting coherence scores\n",
        "x = range(start, limit, step)\n",
        "plt.plot(x, coherence_values)\n",
        "plt.xlabel(\"Num Topics\")\n",
        "plt.ylabel(\"Coherence score\")\n",
        "plt.legend((\"coherence_values\"), loc='best')\n",
        "plt.show()\n"
      ],
      "metadata": {
        "colab": {
          "base_uri": "https://localhost:8080/",
          "height": 504
        },
        "id": "lXubbPli5BXr",
        "outputId": "3134db44-7f6e-4566-d6d8-16e8411179e9"
      },
      "execution_count": null,
      "outputs": [
        {
          "output_type": "stream",
          "name": "stderr",
          "text": [
            "/usr/local/lib/python3.10/dist-packages/ipykernel/ipkernel.py:283: DeprecationWarning: `should_run_async` will not call `transform_cell` automatically in the future. Please pass the result to `transformed_cell` argument and any exception that happen during thetransform in `preprocessing_exc_tuple` in IPython 7.17 and above.\n",
            "  and should_run_async(code)\n"
          ]
        },
        {
          "output_type": "display_data",
          "data": {
            "text/plain": [
              "<Figure size 640x480 with 1 Axes>"
            ],
            "image/png": "[encoded data removed]"
          },
          "metadata": {}
        }
      ]
    },
    {
      "cell_type": "code",
      "source": [
        "# Print the coherence scores\n",
        "for m, cv in zip(x, coherence_values):\n",
        "    print(\"Num Topics =\", m, \" has Coherence Value of\", round(cv, 6))"
      ],
      "metadata": {
        "colab": {
          "base_uri": "https://localhost:8080/"
        },
        "id": "x3VgdbwK5Em6",
        "outputId": "a7630fc2-0d0a-4ec2-f959-1c04b2bfc6b2"
      },
      "execution_count": null,
      "outputs": [
        {
          "output_type": "stream",
          "name": "stdout",
          "text": [
            "Num Topics = 1  has Coherence Value of 0.393591\n",
            "Num Topics = 2  has Coherence Value of 0.443615\n",
            "Num Topics = 3  has Coherence Value of 0.426589\n",
            "Num Topics = 4  has Coherence Value of 0.476293\n",
            "Num Topics = 5  has Coherence Value of 0.438334\n",
            "Num Topics = 6  has Coherence Value of 0.392402\n",
            "Num Topics = 7  has Coherence Value of 0.442611\n",
            "Num Topics = 8  has Coherence Value of 0.479698\n",
            "Num Topics = 9  has Coherence Value of 0.462349\n",
            "Num Topics = 10  has Coherence Value of 0.444772\n",
            "Num Topics = 11  has Coherence Value of 0.475129\n",
            "Num Topics = 12  has Coherence Value of 0.410471\n",
            "Num Topics = 13  has Coherence Value of 0.382361\n",
            "Num Topics = 14  has Coherence Value of 0.461887\n",
            "Num Topics = 15  has Coherence Value of 0.442557\n",
            "Num Topics = 16  has Coherence Value of 0.480257\n",
            "Num Topics = 17  has Coherence Value of 0.418521\n",
            "Num Topics = 18  has Coherence Value of 0.428347\n",
            "Num Topics = 19  has Coherence Value of 0.485378\n",
            "Num Topics = 20  has Coherence Value of 0.435097\n"
          ]
        },
        {
          "output_type": "stream",
          "name": "stderr",
          "text": [
            "/usr/local/lib/python3.10/dist-packages/ipykernel/ipkernel.py:283: DeprecationWarning: `should_run_async` will not call `transform_cell` automatically in the future. Please pass the result to `transformed_cell` argument and any exception that happen during thetransform in `preprocessing_exc_tuple` in IPython 7.17 and above.\n",
            "  and should_run_async(code)\n"
          ]
        }
      ]
    },
    {
      "cell_type": "code",
      "source": [
        "model = LdaModel(corpus=corpus_tfidf, id2word=dictionary, num_topics=4) #num topic menyesuaikan hasil dari coherence value paling tinggi\n",
        "for idx, topic in model.print_topics(-1):\n",
        "    print('Topic: {} Word: {}'.format(idx, topic))"
      ],
      "metadata": {
        "colab": {
          "base_uri": "https://localhost:8080/"
        },
        "id": "magb1uHV8Hkt",
        "outputId": "7fdf19e5-e321-48fa-a208-6a06807ee5d9"
      },
      "execution_count": null,
      "outputs": [
        {
          "output_type": "stream",
          "name": "stderr",
          "text": [
            "/usr/local/lib/python3.10/dist-packages/ipykernel/ipkernel.py:283: DeprecationWarning: `should_run_async` will not call `transform_cell` automatically in the future. Please pass the result to `transformed_cell` argument and any exception that happen during thetransform in `preprocessing_exc_tuple` in IPython 7.17 and above.\n",
            "  and should_run_async(code)\n",
            "WARNING:gensim.models.ldamodel:too few updates, training might not converge; consider increasing the number of passes or iterations to improve accuracy\n"
          ]
        },
        {
          "output_type": "stream",
          "name": "stdout",
          "text": [
            "Topic: 0 Word: 0.013*\"kecamatan_banjarnegara\" + 0.012*\"pendaftaran_pantarlih\" + 0.011*\"banjarnegara\" + 0.011*\"data_pemilih\" + 0.010*\"ppk_purworejo\" + 0.009*\"pilkada_serentak\" + 0.008*\"kpubanjarnegara_ppkbanjarnegara\" + 0.007*\"banjarnegara_pemilukada\" + 0.007*\"petugas_pemutakhiran\" + 0.006*\"pemilih\"\n",
            "Topic: 1 Word: 0.012*\"bupati_wakil\" + 0.010*\"ppk_purworejo\" + 0.008*\"bupati\" + 0.008*\"wakil_gubernur\" + 0.008*\"wakil\" + 0.008*\"kecamatan_banjarnegara\" + 0.008*\"banjarnegara\" + 0.007*\"pemilihan_gubernur\" + 0.007*\"gubernur\" + 0.007*\"purworejo\"\n",
            "Topic: 2 Word: 0.009*\"pilkada_serentak\" + 0.008*\"ppk_purworejo\" + 0.008*\"halo_sobat\" + 0.008*\"pilgub_jateng\" + 0.007*\"desa_suroyudan\" + 0.007*\"kpubanjarnegara_ppkbanjarnegara\" + 0.006*\"desa_ampelsari\" + 0.006*\"desa_purwosari\" + 0.006*\"pendaftaran_pantarlih\" + 0.006*\"rapat_koordinasi\"\n",
            "Topic: 3 Word: 0.010*\"pilkada_serentak\" + 0.008*\"sekretariat_pps\" + 0.007*\"kelurahan_semarang\" + 0.007*\"ppk_purworejo\" + 0.007*\"kpubanjarnegara_ppkbanjarnegara\" + 0.006*\"kecamatan_gebang\" + 0.006*\"desa_tegalsari\" + 0.006*\"hai\" + 0.005*\"sosialisasi\" + 0.005*\"kpu_ri\"\n"
          ]
        }
      ]
    },
    {
      "cell_type": "code",
      "source": [
        "import pandas as pd\n",
        "top_words_per_topic = []\n",
        "for t in range(model.num_topics):\n",
        "    top_words_per_topic.extend([(t, ) + x for x in model.show_topic(t, topn = 10)])\n",
        "#pd.DataFrame(top_words_per_topic, columns=['Topic', 'Word', 'P']).to_csv(\"top_words.csv\")\n",
        "df = pd.DataFrame(top_words_per_topic, columns=['Topic', 'Word','P']).to_csv(\"top_words2.csv\")\n",
        "print(df)"
      ],
      "metadata": {
        "colab": {
          "base_uri": "https://localhost:8080/"
        },
        "id": "Er81YHX88TgQ",
        "outputId": "c34bd301-7a55-4be7-9181-f36c899f2e2e"
      },
      "execution_count": null,
      "outputs": [
        {
          "output_type": "stream",
          "name": "stdout",
          "text": [
            "None\n"
          ]
        },
        {
          "output_type": "stream",
          "name": "stderr",
          "text": [
            "/usr/local/lib/python3.10/dist-packages/ipykernel/ipkernel.py:283: DeprecationWarning: `should_run_async` will not call `transform_cell` automatically in the future. Please pass the result to `transformed_cell` argument and any exception that happen during thetransform in `preprocessing_exc_tuple` in IPython 7.17 and above.\n",
            "  and should_run_async(code)\n"
          ]
        }
      ]
    },
    {
      "cell_type": "code",
      "source": [
        "import gensim\n",
        "import pyLDAvis.gensim;pyLDAvis.enable_notebook()\n",
        "data = pyLDAvis.gensim.prepare(model, corpus_tfidf, dictionary)\n",
        "print(data)\n",
        "pyLDAvis.save_html(data, '/content/drive/MyDrive/data bang fahmi pilgub jateng/pilgub-jatim-lda-gensim.html')"
      ],
      "metadata": {
        "colab": {
          "base_uri": "https://localhost:8080/"
        },
        "id": "EGRuXkP28dYr",
        "outputId": "92c351e8-febc-4721-8c3d-57ab16212b41"
      },
      "execution_count": null,
      "outputs": [
        {
          "output_type": "stream",
          "name": "stderr",
          "text": [
            "/usr/local/lib/python3.10/dist-packages/ipykernel/ipkernel.py:283: DeprecationWarning: `should_run_async` will not call `transform_cell` automatically in the future. Please pass the result to `transformed_cell` argument and any exception that happen during thetransform in `preprocessing_exc_tuple` in IPython 7.17 and above.\n",
            "  and should_run_async(code)\n"
          ]
        },
        {
          "output_type": "stream",
          "name": "stdout",
          "text": [
            "PreparedData(topic_coordinates=              x         y  topics  cluster       Freq\n",
            "topic                                                \n",
            "0     -0.018724  0.046160       1        1  27.781666\n",
            "2     -0.053170 -0.043379       2        1  25.404788\n",
            "1      0.007948  0.022580       3        1  24.881139\n",
            "3      0.063946 -0.025360       4        1  21.932407, topic_info=                        Term       Freq      Total Category  logprob  loglift\n",
            "72            desa_suroyudan   5.000000   5.000000  Default  30.0000  30.0000\n",
            "314               halo_sobat   7.000000   7.000000  Default  29.0000  29.0000\n",
            "421            pilgub_jateng   6.000000   6.000000  Default  28.0000  28.0000\n",
            "10              bupati_wakil  14.000000  14.000000  Default  27.0000  27.0000\n",
            "74                 hai_haiii   4.000000   4.000000  Default  26.0000  26.0000\n",
            "..                       ...        ...        ...      ...      ...      ...\n",
            "205          ppkbanjarnegara   2.162578  10.087841   Topic4  -5.6252  -0.0228\n",
            "707               pengumuman   1.980661   6.700385   Topic4  -5.7130   0.2985\n",
            "736    pendaftaran_pantarlih   2.293648  19.641368   Topic4  -5.5663  -0.6303\n",
            "151             banjarnegara   2.203564  19.536890   Topic4  -5.6064  -0.6650\n",
            "152  banjarnegara_pemilukada   2.118998  13.208021   Topic4  -5.6455  -0.3127\n",
            "\n",
            "[277 rows x 6 columns], token_table=      Topic      Freq          Term\n",
            "term                               \n",
            "147       1  0.462312          adil\n",
            "319       1  0.431520  ahmad_luthfi\n",
            "319       2  0.215760  ahmad_luthfi\n",
            "319       4  0.215760  ahmad_luthfi\n",
            "8         1  0.199562           ayo\n",
            "...     ...       ...           ...\n",
            "125       2  0.529003  wonosobozone\n",
            "125       3  0.264502  wonosobozone\n",
            "125       4  0.264502  wonosobozone\n",
            "304       1  0.249870      wonoyoso\n",
            "304       3  0.749609      wonoyoso\n",
            "\n",
            "[480 rows x 3 columns], R=30, lambda_step=0.01, plot_opts={'xlab': 'PC1', 'ylab': 'PC2'}, topic_order=[1, 3, 2, 4])\n"
          ]
        }
      ]
    },
    {
      "cell_type": "code",
      "source": [],
      "metadata": {
        "id": "FD2dV40h8g3q"
      },
      "execution_count": null,
      "outputs": []
    }
  ]
}